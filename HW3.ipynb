{
  "nbformat": 4,
  "nbformat_minor": 0,
  "metadata": {
    "kernelspec": {
      "display_name": "Python 3",
      "language": "python",
      "name": "python3"
    },
    "language_info": {
      "codemirror_mode": {
        "name": "ipython",
        "version": 3
      },
      "file_extension": ".py",
      "mimetype": "text/x-python",
      "name": "python",
      "nbconvert_exporter": "python",
      "pygments_lexer": "ipython3",
      "version": "3.8.8"
    },
    "toc": {
      "base_numbering": 1,
      "nav_menu": {},
      "number_sections": false,
      "sideBar": true,
      "skip_h1_title": false,
      "title_cell": "Table of Contents",
      "title_sidebar": "Contents",
      "toc_cell": false,
      "toc_position": {
        "height": "calc(100% - 180px)",
        "left": "10px",
        "top": "150px",
        "width": "240px"
      },
      "toc_section_display": true,
      "toc_window_display": true
    },
    "colab": {
      "name": "HW3.ipynb",
      "provenance": [],
      "collapsed_sections": [
        "xmMnTVkuGTeH",
        "crepkiZ0GTeI",
        "gl8eF_IkGTeO",
        "TgtGPIh6GTeP",
        "5I1eV0qnGTeR",
        "eagATMLbGTea",
        "PaAHFdcpGTec",
        "aR2P5UmCGTef",
        "I2k-pEbcGTen",
        "Mva5tqdrGTes",
        "jL4-unndGTev",
        "bG8wb3LgGTew",
        "S6S3my38GTew"
      ],
      "toc_visible": true
    }
  },
  "cells": [
    {
      "cell_type": "markdown",
      "metadata": {
        "id": "R06RgujRGTdv"
      },
      "source": [
        "# HW3: Pandas\n",
        "\n",
        "*Vì đây là bài tập về Pandas nên yêu cầu là không được dùng vòng lặp*\n",
        "\n",
        "(Cập nhật lần cuối: 12/06/2021)\n",
        "\n",
        "Họ tên: Trần Văn Điệp\n",
        "\n",
        "MSSV: 1712343"
      ]
    },
    {
      "cell_type": "markdown",
      "metadata": {
        "id": "hZcOeo5wGTd1"
      },
      "source": [
        "---"
      ]
    },
    {
      "cell_type": "markdown",
      "metadata": {
        "id": "nHOZZEglGTd3"
      },
      "source": [
        "## Cách làm bài và nộp bài"
      ]
    },
    {
      "cell_type": "markdown",
      "metadata": {
        "id": "deKftdAYGTd4"
      },
      "source": [
        "&#9889; Bạn lưu ý là mình sẽ dùng chương trình hỗ trợ chấm bài nên bạn cần phải tuân thủ chính xác qui định mà mình đặt ra, nếu không rõ thì hỏi, chứ không nên tự tiện làm theo ý của cá nhân.\n",
        "\n",
        "**Cách làm bài**\n",
        "\n",
        "Bạn sẽ làm trực tiếp trên file notebook này. Đầu tiên, bạn điền họ tên và MSSV vào phần đầu file ở bên trên. Trong file, bạn làm bài ở những chỗ có ghi là:\n",
        "```python\n",
        "# YOUR CODE HERE\n",
        "raise NotImplementedError()\n",
        "```\n",
        "hoặc đối với những phần code không bắt buộc thì là:\n",
        "```python\n",
        "# YOUR CODE HERE (OPTION)\n",
        "```\n",
        "hoặc đối với markdown cell thì là:\n",
        "```markdown\n",
        "YOUR ANSWER HERE\n",
        "```\n",
        "Tất nhiên, khi làm thì bạn xóa dòng `raise NotImplementedError()` đi.\n",
        "Đối những phần yêu cầu code thì thường ở ngay phía dưới sẽ có một (hoặc một số) cell chứa các bộ test để giúp bạn biết đã code đúng hay chưa; nếu chạy cell này không có lỗi gì thì có nghĩa là qua được các bộ test. Trong một số trường hợp, các bộ test có thể sẽ không đầy đủ; nghĩa là, nếu không qua được test thì là code sai, nhưng nếu qua được test thì chưa chắc đã đúng hoàn toàn.\n",
        "\n",
        "Trong khi làm bài, bạn có thể cho in ra màn hình, tạo thêm các cell để test. Nhưng khi nộp bài thì bạn xóa các cell mà bạn tự tạo, xóa hoặc comment các câu lệnh in ra màn hình. Bạn lưu ý <font color=red>không được tự tiện xóa các cell hay sửa code của Thầy</font> (trừ những chỗ được phép sửa như đã nói ở trên).\n",
        "\n",
        "Bạn cố gắng giữ cho code rõ ràng, ngăn nắp: đặt tên biến gợi ý, comment ở những chỗ cần comment, giữ cho một dòng code không quá dài (vì nếu không thì người đọc sẽ phải mất công scroll, bạn có thể dùng qui tắc: một dòng code chỉ nên có tối đa là 79 ký tự). \n",
        "\n",
        "Trong khi làm bài, thường xuyên `Ctrl + S` để lưu lại bài làm của bạn, tránh mất mát thông tin.\n",
        "\n",
        "\n",
        "*Nên nhớ mục tiêu chính ở đây là <font color=green>học, học một cách chân thật</font>. Bạn có thể thảo luận ý tưởng với bạn khác, nhưng <font color=green>code và bài làm phải là của bạn, dựa trên sự hiểu thật sự của bạn</font>. <font color=red>Nếu vi phạm thì sẽ bị 0 điểm cho toàn bộ môn học.</font>*\n",
        "\n",
        "**Cách nộp bài**\n",
        "\n",
        "Khi chấm bài, đầu tiên mình sẽ chọn `Kernel` - `Restart & Run All` để restart và chạy tất cả các cell trong notebook của bạn; do đó, trước khi nộp bài, bạn nên chạy thử `Kernel` - `Restart & Run All` để đảm bảo mọi chuyện diễn ra đúng như mong đợi.\n",
        "\n",
        "Sau đó, bạn tạo thư mục nộp bài theo cấu trúc sau:\n",
        "- Thư mục `MSSV` (vd, nếu bạn có MSSV là 1234567 thì bạn đặt tên thư mục là `1234567`)\n",
        "    - File `HW3.ipynb` (không cần nộp các file khác)\n",
        "\n",
        "Cuối cùng, bạn nén thư mục `MSSV` này lại và nộp ở link trên moodle. <font color=red>Bạn lưu ý tuân thủ chính xác qui định nộp bài.</font>"
      ]
    },
    {
      "cell_type": "markdown",
      "metadata": {
        "id": "kxsjISbMGTd7"
      },
      "source": [
        "---"
      ]
    },
    {
      "cell_type": "markdown",
      "metadata": {
        "id": "HnALY95kGTd8"
      },
      "source": [
        "## Môi trường code"
      ]
    },
    {
      "cell_type": "markdown",
      "metadata": {
        "id": "5-Z15fquGTd9"
      },
      "source": [
        "Ta thống nhất trong môn này:\n",
        "- Code trên môi trường Linux (bạn đã setup ở HW0)\n",
        "- Dùng Jupyter Notebook hoặc Jupyter Lab để code file .ipynb. Lưu ý: bạn <font color=red>không dùng Google Colab</font>, vì Google Colab có thể xóa một số thông tin meta mà chương trình hỗ trợ chấm bài của mình đã tạo trong file bài tập\n",
        "- Dùng phiên bản các package như trong file \"p4ds-env.yml\" \\\n",
        "Bạn xem cách dùng Conda để tạo môi trường code từ file .yml trong file slide \"06-PythonP3_Conda.pdf\""
      ]
    },
    {
      "cell_type": "code",
      "metadata": {
        "colab": {
          "base_uri": "https://localhost:8080/"
        },
        "id": "Bt4739sVGTd-",
        "outputId": "7b8babb3-a961-4e4c-c956-09a25bcbdf8b"
      },
      "source": [
        "!which python "
      ],
      "execution_count": 2,
      "outputs": [
        {
          "output_type": "stream",
          "text": [
            "/usr/local/bin/python\n"
          ],
          "name": "stdout"
        }
      ]
    },
    {
      "cell_type": "markdown",
      "metadata": {
        "id": "xtmwZJS_GTeB"
      },
      "source": [
        "Nếu không có vấn đề gì thì file chạy python sẽ là file của môi trường code \"p4ds-env\"."
      ]
    },
    {
      "cell_type": "markdown",
      "metadata": {
        "id": "VZl0YLOwGTeC"
      },
      "source": [
        "---"
      ]
    },
    {
      "cell_type": "markdown",
      "metadata": {
        "id": "B1XHFYmhGTeD"
      },
      "source": [
        "## Import các thư viện cần thiết"
      ]
    },
    {
      "cell_type": "code",
      "metadata": {
        "id": "MI75TQn8GTeE"
      },
      "source": [
        "import pandas as pd\n",
        "import matplotlib.pyplot as plt\n",
        "import numpy as np\n",
        "# YOUR CODE HERE (OPTION)\n",
        "import datetime as dt"
      ],
      "execution_count": 3,
      "outputs": []
    },
    {
      "cell_type": "markdown",
      "metadata": {
        "id": "OK0tyXqgGTeF"
      },
      "source": [
        "---"
      ]
    },
    {
      "cell_type": "markdown",
      "metadata": {
        "id": "-qbXzqeOGTeF"
      },
      "source": [
        "## Thu thập dữ liệu"
      ]
    },
    {
      "cell_type": "markdown",
      "metadata": {
        "id": "mZkPpWYIGTeG"
      },
      "source": [
        "Trong bài này, ta sẽ dùng dữ liệu đã được thu thập sẵn là file \"mvt.csv\" đính kèm; đây là dữ liệu về tội phạm ăn cắp xe ở thành phố Chicago, bang Illinois, Hoa Kỳ (\"mvt\" là viết tắt của \"motor vehicle theft\"). Dữ liệu này được lấy từ khóa học \"The Analytics Edge\" ở trang edx.org, và gốc của dữ liệu là [ở đây](https://data.cityofchicago.org/Public-Safety/Crimes-2001-to-present/ijzp-q8t2)."
      ]
    },
    {
      "cell_type": "markdown",
      "metadata": {
        "id": "0D3eh_FsGTeG"
      },
      "source": [
        "---"
      ]
    },
    {
      "cell_type": "markdown",
      "metadata": {
        "id": "en9oQV0dGTeH"
      },
      "source": [
        "## Khám phá dữ liệu"
      ]
    },
    {
      "cell_type": "code",
      "metadata": {
        "id": "3G-sOvzPUQQL"
      },
      "source": [
        ""
      ],
      "execution_count": 3,
      "outputs": []
    },
    {
      "cell_type": "markdown",
      "metadata": {
        "id": "xmMnTVkuGTeH"
      },
      "source": [
        "### Đọc dữ liệu từ file csv vào dataframe"
      ]
    },
    {
      "cell_type": "code",
      "metadata": {
        "colab": {
          "base_uri": "https://localhost:8080/",
          "height": 0
        },
        "id": "W_nHS_sGGTeI",
        "outputId": "53c4422d-62d6-4b95-b4cd-c0ca7e96ba87"
      },
      "source": [
        "mvt_df = pd.read_csv('mvt.csv')\n",
        "mvt_df.head()"
      ],
      "execution_count": 4,
      "outputs": [
        {
          "output_type": "stream",
          "text": [
            "/usr/local/lib/python3.7/dist-packages/IPython/core/interactiveshell.py:2718: DtypeWarning: Columns (6,7) have mixed types.Specify dtype option on import or set low_memory=False.\n",
            "  interactivity=interactivity, compiler=compiler, result=result)\n"
          ],
          "name": "stderr"
        },
        {
          "output_type": "execute_result",
          "data": {
            "text/html": [
              "<div>\n",
              "<style scoped>\n",
              "    .dataframe tbody tr th:only-of-type {\n",
              "        vertical-align: middle;\n",
              "    }\n",
              "\n",
              "    .dataframe tbody tr th {\n",
              "        vertical-align: top;\n",
              "    }\n",
              "\n",
              "    .dataframe thead th {\n",
              "        text-align: right;\n",
              "    }\n",
              "</style>\n",
              "<table border=\"1\" class=\"dataframe\">\n",
              "  <thead>\n",
              "    <tr style=\"text-align: right;\">\n",
              "      <th></th>\n",
              "      <th>ID</th>\n",
              "      <th>Date</th>\n",
              "      <th>LocationDescription</th>\n",
              "      <th>Arrest</th>\n",
              "      <th>Domestic</th>\n",
              "      <th>Beat</th>\n",
              "      <th>District</th>\n",
              "      <th>CommunityArea</th>\n",
              "      <th>Year</th>\n",
              "      <th>Latitude</th>\n",
              "      <th>Longitude</th>\n",
              "    </tr>\n",
              "  </thead>\n",
              "  <tbody>\n",
              "    <tr>\n",
              "      <th>0</th>\n",
              "      <td>8951354</td>\n",
              "      <td>12/31/2012 23:15</td>\n",
              "      <td>STREET</td>\n",
              "      <td>False</td>\n",
              "      <td>False</td>\n",
              "      <td>623</td>\n",
              "      <td>6</td>\n",
              "      <td>69</td>\n",
              "      <td>2012</td>\n",
              "      <td>41.756284</td>\n",
              "      <td>-87.621645</td>\n",
              "    </tr>\n",
              "    <tr>\n",
              "      <th>1</th>\n",
              "      <td>8951141</td>\n",
              "      <td>12/31/2012 22:00</td>\n",
              "      <td>STREET</td>\n",
              "      <td>False</td>\n",
              "      <td>False</td>\n",
              "      <td>1213</td>\n",
              "      <td>12</td>\n",
              "      <td>24</td>\n",
              "      <td>2012</td>\n",
              "      <td>41.898788</td>\n",
              "      <td>-87.661303</td>\n",
              "    </tr>\n",
              "    <tr>\n",
              "      <th>2</th>\n",
              "      <td>8952745</td>\n",
              "      <td>12/31/2012 22:00</td>\n",
              "      <td>RESIDENTIAL YARD (FRONT/BACK)</td>\n",
              "      <td>False</td>\n",
              "      <td>False</td>\n",
              "      <td>1622</td>\n",
              "      <td>16</td>\n",
              "      <td>11</td>\n",
              "      <td>2012</td>\n",
              "      <td>41.969186</td>\n",
              "      <td>-87.767670</td>\n",
              "    </tr>\n",
              "    <tr>\n",
              "      <th>3</th>\n",
              "      <td>8952223</td>\n",
              "      <td>12/31/2012 22:00</td>\n",
              "      <td>STREET</td>\n",
              "      <td>False</td>\n",
              "      <td>False</td>\n",
              "      <td>724</td>\n",
              "      <td>7</td>\n",
              "      <td>67</td>\n",
              "      <td>2012</td>\n",
              "      <td>41.769329</td>\n",
              "      <td>-87.657726</td>\n",
              "    </tr>\n",
              "    <tr>\n",
              "      <th>4</th>\n",
              "      <td>8951608</td>\n",
              "      <td>12/31/2012 21:30</td>\n",
              "      <td>STREET</td>\n",
              "      <td>False</td>\n",
              "      <td>False</td>\n",
              "      <td>211</td>\n",
              "      <td>2</td>\n",
              "      <td>35</td>\n",
              "      <td>2012</td>\n",
              "      <td>41.837568</td>\n",
              "      <td>-87.621761</td>\n",
              "    </tr>\n",
              "  </tbody>\n",
              "</table>\n",
              "</div>"
            ],
            "text/plain": [
              "        ID              Date  ...   Latitude  Longitude\n",
              "0  8951354  12/31/2012 23:15  ...  41.756284 -87.621645\n",
              "1  8951141  12/31/2012 22:00  ...  41.898788 -87.661303\n",
              "2  8952745  12/31/2012 22:00  ...  41.969186 -87.767670\n",
              "3  8952223  12/31/2012 22:00  ...  41.769329 -87.657726\n",
              "4  8951608  12/31/2012 21:30  ...  41.837568 -87.621761\n",
              "\n",
              "[5 rows x 11 columns]"
            ]
          },
          "metadata": {
            "tags": []
          },
          "execution_count": 4
        }
      ]
    },
    {
      "cell_type": "markdown",
      "metadata": {
        "id": "crepkiZ0GTeI"
      },
      "source": [
        "### Dữ liệu gồm có bao nhiêu dòng và bao nhiêu cột? (0.25đ)"
      ]
    },
    {
      "cell_type": "markdown",
      "metadata": {
        "id": "yR-MRSmEGTeI"
      },
      "source": [
        "Bạn tính số dòng và số cột (không được code cứng con số) và lần lượt lưu vào 2 biến là `num_rows` và `num_cols`. "
      ]
    },
    {
      "cell_type": "code",
      "metadata": {
        "deletable": false,
        "nbgrader": {
          "cell_type": "code",
          "checksum": "0a03dc9216c2e34b0151074d168e31a3",
          "grade": false,
          "grade_id": "cell-bc8810dbc4930a46",
          "locked": false,
          "schema_version": 3,
          "solution": true,
          "task": false
        },
        "id": "IbwVd4OdGTeJ"
      },
      "source": [
        "# YOUR CODE HERE\n",
        "\n",
        "num_rows = mvt_df.shape[0]\n",
        "num_cols = mvt_df.shape[1]\n",
        "#raise NotImplementedError()"
      ],
      "execution_count": 5,
      "outputs": []
    },
    {
      "cell_type": "code",
      "metadata": {
        "deletable": false,
        "editable": false,
        "nbgrader": {
          "cell_type": "code",
          "checksum": "9a48e11795f58c3f5d0bba0cf1d9c766",
          "grade": true,
          "grade_id": "cell-41d8eb768a571d35",
          "locked": true,
          "points": 0.25,
          "schema_version": 3,
          "solution": false,
          "task": false
        },
        "id": "0eSsYYxfGTeJ"
      },
      "source": [
        "# TEST\n",
        "assert num_rows == 191641\n",
        "assert num_cols == 11"
      ],
      "execution_count": 6,
      "outputs": []
    },
    {
      "cell_type": "markdown",
      "metadata": {
        "id": "KfMAd8KLGTeN"
      },
      "source": [
        "### Mỗi dòng có ý nghĩa gì? Có vấn đề các dòng có ý nghĩa khác nhau không?"
      ]
    },
    {
      "cell_type": "markdown",
      "metadata": {
        "id": "uWEbjI4gGTeO"
      },
      "source": [
        "Theo mô tả dữ liệu của khóa học \"The Analytics Edge\" và theo quan sát sơ bộ về dữ liệu thì một dòng cho biết thông tin của một vụ phạm tội. Có vẻ không có dòng nào bị \"lạc loài\"."
      ]
    },
    {
      "cell_type": "markdown",
      "metadata": {
        "id": "gl8eF_IkGTeO"
      },
      "source": [
        "### Dữ liệu có các dòng bị lặp không? (0.5đ)"
      ]
    },
    {
      "cell_type": "markdown",
      "metadata": {
        "id": "xU6aQdK_GTeO"
      },
      "source": [
        "Bạn sẽ kiểm tra vụ này và lưu kết quả vào biến `have_duplicated_rows`. Biến này sẽ có giá trị True nếu dữ liệu có các dòng bị lặp và có giá trị False nếu ngược. Gợi ý: dataframe có phương thức `duplicated`."
      ]
    },
    {
      "cell_type": "code",
      "metadata": {
        "deletable": false,
        "nbgrader": {
          "cell_type": "code",
          "checksum": "14923eae51d859512c15219a5d64f72d",
          "grade": false,
          "grade_id": "cell-facf998546c4dfeb",
          "locked": false,
          "schema_version": 3,
          "solution": true,
          "task": false
        },
        "id": "J8i8dFaLGTeP"
      },
      "source": [
        "# YOUR CODE HERE\n",
        "tmp_df = mvt_df.duplicated(keep = 'first')\n",
        "have_duplicated_rows = not (tmp_df.shape[0] == num_rows)\n",
        "#raise NotImplementedError()"
      ],
      "execution_count": 7,
      "outputs": []
    },
    {
      "cell_type": "code",
      "metadata": {
        "deletable": false,
        "editable": false,
        "nbgrader": {
          "cell_type": "code",
          "checksum": "6b284609bcbb8ec5d7955bbc55ca3cf9",
          "grade": true,
          "grade_id": "cell-185c9c090ebb1b30",
          "locked": true,
          "points": 0.5,
          "schema_version": 3,
          "solution": false,
          "task": false
        },
        "id": "pxADnAZ8GTeP"
      },
      "source": [
        "# TEST\n",
        "assert have_duplicated_rows == False"
      ],
      "execution_count": 8,
      "outputs": []
    },
    {
      "cell_type": "markdown",
      "metadata": {
        "id": "TgtGPIh6GTeP"
      },
      "source": [
        "### Mỗi cột có ý nghĩa gì?"
      ]
    },
    {
      "cell_type": "markdown",
      "metadata": {
        "id": "8Ke-_mM1GTeQ"
      },
      "source": [
        "Dưới đây là phần mô tả của khóa học \"The Analytics Edge\" về các cột trong file \"mvt.csv\":\n",
        "- **ID**: a unique identifier for each observation.\n",
        "- **Date**: the date the crime occurred.\n",
        "- **LocationDescription**: the location where the crime occurred.\n",
        "- **Arrest**: whether or not an arrest was made for the crime (TRUE if an arrest was made, and FALSE if an arrest was not made).\n",
        "- **Domestic**: whether or not the crime was a domestic crime, meaning that it was committed against a family member (TRUE if it was domestic, and FALSE if it was not domestic).\n",
        "- **Beat**: the area, or \"beat\" in which the crime occurred. This is the smallest regional division defined by the Chicago police department.\n",
        "- **District**: the police district in which the crime occured. Each district is composed of many beats, and are defined by the Chicago Police Department.\n",
        "- **CommunityArea**: the community area in which the crime occurred. Since the 1920s, Chicago has been divided into what are called \"community areas\", of which there are now 77. The community areas were devised in an attempt to create socially homogeneous regions.\n",
        "- **Year**: the year in which the crime occurred.\n",
        "- **Latitude**: the latitude of the location at which the crime occurred.\n",
        "- **Longitude**: the longitude of the location at which the crime occurred."
      ]
    },
    {
      "cell_type": "markdown",
      "metadata": {
        "id": "5I1eV0qnGTeR"
      },
      "source": [
        "### Mỗi cột hiện đang có kiểu dữ liệu gì? Có cột nào có kiểu dữ liệu chưa phù hợp để có thể xử lý tiếp không? (0.75đ)"
      ]
    },
    {
      "cell_type": "markdown",
      "metadata": {
        "id": "l_471ezFGTeR"
      },
      "source": [
        "Bạn lấy `dtype` (kiểu dữ liệu của mỗi phần tử) của mỗi cột trong `mvt_df` và lưu kết quả vào series `col_dtypes`; series này có index là tên cột. "
      ]
    },
    {
      "cell_type": "code",
      "metadata": {
        "deletable": false,
        "nbgrader": {
          "cell_type": "code",
          "checksum": "96e1fdd8f9e7fa97311e690dcdea495b",
          "grade": false,
          "grade_id": "cell-e7c33d274bed2b0c",
          "locked": false,
          "schema_version": 3,
          "solution": true,
          "task": false
        },
        "id": "9isSkCL_GTeR"
      },
      "source": [
        "# YOUR CODE HERE\n",
        "col_dtypes = mvt_df.dtypes\n",
        "#raise NotImplementedError()"
      ],
      "execution_count": 9,
      "outputs": []
    },
    {
      "cell_type": "code",
      "metadata": {
        "deletable": false,
        "editable": false,
        "nbgrader": {
          "cell_type": "code",
          "checksum": "377ae4306301529c44f6c0021f578899",
          "grade": true,
          "grade_id": "cell-84a2c0629f12e655",
          "locked": true,
          "points": 0.25,
          "schema_version": 3,
          "solution": false,
          "task": false
        },
        "id": "kVqVIKYxGTeS"
      },
      "source": [
        "# TEST\n",
        "assert col_dtypes['ID'] in [np.int64, np.int32]\n",
        "assert col_dtypes['Beat'] in [np.int64, np.int32]\n",
        "assert col_dtypes['Year'] in [np.int64, np.int32]\n",
        "assert col_dtypes['Latitude'] in [np.float64, np.float32]\n",
        "assert col_dtypes['Longitude'] in [np.float64, np.float32]\n",
        "assert col_dtypes['Date'] == object\n",
        "assert col_dtypes['LocationDescription'] == object\n",
        "assert col_dtypes['District'] == object\n",
        "assert col_dtypes['CommunityArea'] == object\n",
        "assert col_dtypes['Arrest'] == bool\n",
        "assert col_dtypes['Domestic'] == bool"
      ],
      "execution_count": 10,
      "outputs": []
    },
    {
      "cell_type": "markdown",
      "metadata": {
        "id": "pAvzDFFJGTeS"
      },
      "source": [
        "**Cột có dtype là object nghĩa là sao?**"
      ]
    },
    {
      "cell_type": "markdown",
      "metadata": {
        "id": "wqcHYI6TGTeS"
      },
      "source": [
        "`mvt_df` có 4 cột có `dtype` là `object`: \"Date\", \"LocationDescription\", \"District\", \"CommunityArea\". Trong Pandas, kiểu dữ liệu `object` thường ám chỉ chuỗi, nhưng thật ra kiểu dữ liệu `object` có thể chứa một đối tượng bất kỳ trong Python (vì thật ra ở bên dưới kiểu dữ liệu `object` chứa địa chỉ). Nếu một cột trong dataframe có `dtype` là `object` thì có thể các phần tử trong cột này sẽ có kiểu dữ liệu khác nhau; để biết được kiểu dữ liệu thật sự của các phần tử trong cột này thì ta phải truy xuất vào từng phần tử và dùng câu lệnh `type` để xem kiểu dữ liệu, ví dụ `type(s.iloc[i])` với `s` là một cột. Lúc đọc dữ liệu từ file \"mvt.csv\" lên, nếu bạn để ý thì sẽ thấy warning là: \"Columns (6,7) have mixed types\", nghĩa là cột 6 (\"District\") và 7 (\"CommunityArea\") có `dtype` không đồng nhất (trong nội bộ mỗi cột). Ta muốn xem thử trong nội bộ mỗi cột này có các kiểu dữ liệu nào.\n",
        "\n",
        "Công việc của bạn là viết hàm nhận đầu vào là một cột `s` (series) có `dtype` là `object` và trả về tập các kiểu dữ liệu thật sự có trong cột này."
      ]
    },
    {
      "cell_type": "code",
      "metadata": {
        "deletable": false,
        "nbgrader": {
          "cell_type": "code",
          "checksum": "584650ddec44ef314602d9923b1d8bac",
          "grade": false,
          "grade_id": "cell-9c4658645a61bd6e",
          "locked": false,
          "schema_version": 3,
          "solution": true,
          "task": false
        },
        "id": "yW3LrINpGTeT"
      },
      "source": [
        "def open_object_dtype(s):\n",
        "    dtype_list = s.apply(type)\n",
        "    dtypes = set(dtype_list)\n",
        "    # YOUR CODE HERE\n",
        "    # raise NotImplementedError()\n",
        "    \n",
        "    return dtypes"
      ],
      "execution_count": 11,
      "outputs": []
    },
    {
      "cell_type": "code",
      "metadata": {
        "deletable": false,
        "editable": false,
        "nbgrader": {
          "cell_type": "code",
          "checksum": "ce472e6d96c28ba141044b1b1da454d3",
          "grade": true,
          "grade_id": "cell-f767e07e65480668",
          "locked": true,
          "points": 0.5,
          "schema_version": 3,
          "solution": false,
          "task": false
        },
        "id": "TBRH0xl5GTeX"
      },
      "source": [
        "# TEST\n",
        "assert open_object_dtype(mvt_df['Date']) == {str}\n",
        "assert open_object_dtype(mvt_df['LocationDescription']) == {str}\n",
        "assert open_object_dtype(mvt_df['District']) == {str, float}\n",
        "assert open_object_dtype(mvt_df['CommunityArea']) == {str, float}"
      ],
      "execution_count": 12,
      "outputs": []
    },
    {
      "cell_type": "markdown",
      "metadata": {
        "id": "I3bCf4n8GTeY"
      },
      "source": [
        "**Vấn đề cần tiền xử lý:**\n",
        "\n",
        "- Cột \"Date\" đang có dtype là `str`. Để có thể tiếp tục khám phá thêm về cột này, ta sẽ thực hiện bước tiền xử lý là chuyển sang dạng `datetime`.\n",
        "- Cột \"District\" và \"CommunityArea\" có dtype gồm 2 loại là `str` và `float`. Nếu kiểm tra thêm thì bạn sẽ thấy `float` là ứng với `NaN`, còn `str` là ứng với mã (dạng số) của \"District\" hoặc \"CommunityArea\". Tuy nhiên, cũng có trường hợp mã là `float` (ví dụ, cột \"CommunityArea\", index 131072). Để có thể tiếp tục khám phá thêm về 2 cột này, ta cũng sẽ thực hiện bước tiền xử lý là chuyển tất cả sang dtype là `float`."
      ]
    },
    {
      "cell_type": "markdown",
      "metadata": {
        "id": "ejv2jgseGTeZ"
      },
      "source": [
        "---"
      ]
    },
    {
      "cell_type": "markdown",
      "metadata": {
        "id": "dgM4-I49GTeZ"
      },
      "source": [
        "## Tiền xử lý"
      ]
    },
    {
      "cell_type": "markdown",
      "metadata": {
        "id": "eagATMLbGTea"
      },
      "source": [
        "### Chuyển dtype của cột \"Date\" sang datetime (0.5đ)"
      ]
    },
    {
      "cell_type": "markdown",
      "metadata": {
        "id": "1hOVxcuGGTea"
      },
      "source": [
        "Bạn hãy chuyển `dtype` của cột \"Date\" sang kiểu dữ liệu thời gian (sau khi làm xong thì cột \"Date\" trong `mvt_df` phải thay đổi `dtype`). Gợi ý: bạn có thể dùng câu lệnh `pd.to_datetime`; khi dùng `pd.to_datetime`, bạn truyền giá trị phù hợp cho tham số `format` (nếu không thì sẽ chạy rất chậm vì Pandas phải đoán format)."
      ]
    },
    {
      "cell_type": "code",
      "metadata": {
        "deletable": false,
        "nbgrader": {
          "cell_type": "code",
          "checksum": "ddf290b1ea2092ab7a32e6b7921c0406",
          "grade": false,
          "grade_id": "cell-39a0a94d173359e5",
          "locked": false,
          "schema_version": 3,
          "solution": true,
          "task": false
        },
        "id": "MNepWx98GTea"
      },
      "source": [
        "# YOUR CODE HERE\n",
        "mvt_df['Date'] = pd.to_datetime(mvt_df['Date'])\n",
        "#raise NotImplementedError()"
      ],
      "execution_count": 13,
      "outputs": []
    },
    {
      "cell_type": "code",
      "metadata": {
        "deletable": false,
        "editable": false,
        "nbgrader": {
          "cell_type": "code",
          "checksum": "5f6923410d6fed98c9381e1f46596010",
          "grade": true,
          "grade_id": "cell-8d966ec31928fc64",
          "locked": true,
          "points": 0.5,
          "schema_version": 3,
          "solution": false,
          "task": false
        },
        "id": "4yW1ttxvGTeb"
      },
      "source": [
        "# TEST \n",
        "# Nếu dtype của cột \"Date\" đã được chuyển sang datetime thì phải dùng được .dt.\n",
        "assert mvt_df['Date'].dt.year.min() == 2001 "
      ],
      "execution_count": 14,
      "outputs": []
    },
    {
      "cell_type": "markdown",
      "metadata": {
        "id": "PaAHFdcpGTec"
      },
      "source": [
        "### Chuyển dtype của cột \"District\" và \"CommunityArea\" sang float (0.5đ)"
      ]
    },
    {
      "cell_type": "markdown",
      "metadata": {
        "id": "oCMV0vm7GTec"
      },
      "source": [
        "Bạn hãy chuyển `dtype` của cột \"District\" và \"CommunityArea\" sang `float` (sau khi làm xong thì cột \"District\" và \"CommunityArea\" trong `mvt_df` phải thay đổi `dtype`). Nếu bạn thử chuyển thì sẽ bị báo lỗi vì trong các cột này có giá trị là \" \" (chuỗi có một khoảng trắng). Vậy thì trước khi chuyển, bạn phải replace các giá trị \" \" bằng NaN.  "
      ]
    },
    {
      "cell_type": "code",
      "metadata": {
        "deletable": false,
        "nbgrader": {
          "cell_type": "code",
          "checksum": "04e2fbb9a221dd48d795c26dcab9017e",
          "grade": false,
          "grade_id": "cell-82a6fc90114be977",
          "locked": false,
          "schema_version": 3,
          "solution": true,
          "task": false
        },
        "id": "uIeGNEhsGTed"
      },
      "source": [
        "# YOUR CODE HERE\n",
        "mvt_df['District'] = pd.to_numeric(mvt_df['District'], errors='coerce')\n",
        "mvt_df['CommunityArea'] = pd.to_numeric(mvt_df['CommunityArea'], errors = 'coerce')\n",
        "#raise NotImplementedError()"
      ],
      "execution_count": 15,
      "outputs": []
    },
    {
      "cell_type": "code",
      "metadata": {
        "deletable": false,
        "editable": false,
        "nbgrader": {
          "cell_type": "code",
          "checksum": "ecb7f5dee613878e4b93d951cc2c68d4",
          "grade": true,
          "grade_id": "cell-02292b1dd9159219",
          "locked": true,
          "points": 0.5,
          "schema_version": 3,
          "solution": false,
          "task": false
        },
        "id": "btuCXOxaGTed"
      },
      "source": [
        "# TEST\n",
        "assert mvt_df['District'].dtype in [np.float32, np.float64]\n",
        "assert mvt_df['CommunityArea'].dtype in [np.float32, np.float64]"
      ],
      "execution_count": 16,
      "outputs": []
    },
    {
      "cell_type": "markdown",
      "metadata": {
        "id": "OygbaadhGTee"
      },
      "source": [
        "---"
      ]
    },
    {
      "cell_type": "markdown",
      "metadata": {
        "id": "0HdMAuZEGTee"
      },
      "source": [
        "## Khám phá dữ liệu (tiếp tục)"
      ]
    },
    {
      "cell_type": "markdown",
      "metadata": {
        "id": "aR2P5UmCGTef"
      },
      "source": [
        "### Với mỗi cột có kiểu dữ liệu dạng numeric, các giá trị được phân bố như thế nào? (0.5đ)"
      ]
    },
    {
      "cell_type": "markdown",
      "metadata": {
        "id": "_YSamLpqGTef"
      },
      "source": [
        "Ta sẽ xếp các cột datetime vào nhóm numeric luôn. Hiện có 8 cột có vẻ là thuộc nhóm numeric: \"ID\", \"Date\", \"Beat\", \"District\", \"CommunityArea\", \"Year\", \"Latitude\", \"Longitude\". Tuy nhiên, 4 cột \"ID\", \"Beat\", \"District\", \"CommunityArea\" thật ra là dạng categorical (vì là mã được đánh dưới dạng số). Như vậy, chỉ có 4 cột numeric là \"Date\", \"Year\", \"Latitude\", \"Longitude\". \n",
        "\n",
        "Với mỗi cột numeric bạn sẽ tính tỉ lệ % giá trị thiếu (từ 0 đến 100), min, max. Bạn lưu kết quả vào dataframe `nume_col_profiles_df`. Dataframe này có 3 dòng là \"missing_ratio\", \"min\", \"max\"; và có 4 cột là \"Date\", \"Year\", \"Latitude\", \"Longitude\".  "
      ]
    },
    {
      "cell_type": "code",
      "metadata": {
        "id": "UuL94NCjFOrj"
      },
      "source": [
        "def to_statis(col):\n",
        "  tmp = col.describe(datetime_is_numeric=True)\n",
        "  p_nan = np.sum(col.isnull())*100/len(col)\n",
        "  if (col.name == 'Date'):\n",
        "    min = tmp[2]\n",
        "    max = tmp[6]\n",
        "  else:\n",
        "    min = round(tmp[3],3)\n",
        "    max = round(tmp[7],3)\n",
        "  iSeries = pd.Series({'missing_ratio': p_nan, 'min': min, 'max': max}, index = ['missing_ratio', 'min', 'max'])\n",
        "  if (col.name != 'Date'):\n",
        "    iSeries = round(iSeries,3)\n",
        "  return iSeries"
      ],
      "execution_count": 17,
      "outputs": []
    },
    {
      "cell_type": "code",
      "metadata": {
        "deletable": false,
        "nbgrader": {
          "cell_type": "code",
          "checksum": "95f164d4ff7a5ee9869dbcc8e0c31d32",
          "grade": false,
          "grade_id": "cell-4c64c2ce1eea9f1d",
          "locked": false,
          "schema_version": 3,
          "solution": true,
          "task": false
        },
        "id": "NXBZuQHGGTef",
        "colab": {
          "base_uri": "https://localhost:8080/",
          "height": 0
        },
        "outputId": "6990b6ff-d5cf-41a3-b77e-970cce834496"
      },
      "source": [
        "# YOUR CODE HERE\n",
        "nume_col_profiles_df = pd.DataFrame()\n",
        "nume_col_profiles_df['Date'] = to_statis(mvt_df['Date'])\n",
        "nume_col_profiles_df['Year'] = to_statis(mvt_df['Year'])\n",
        "nume_col_profiles_df['Latitude'] = to_statis(mvt_df['Latitude'])\n",
        "nume_col_profiles_df['Longitude'] = to_statis(mvt_df['Longitude'])\n",
        "#raise NotImplementedError()\n",
        "nume_col_profiles_df"
      ],
      "execution_count": 18,
      "outputs": [
        {
          "output_type": "execute_result",
          "data": {
            "text/html": [
              "<div>\n",
              "<style scoped>\n",
              "    .dataframe tbody tr th:only-of-type {\n",
              "        vertical-align: middle;\n",
              "    }\n",
              "\n",
              "    .dataframe tbody tr th {\n",
              "        vertical-align: top;\n",
              "    }\n",
              "\n",
              "    .dataframe thead th {\n",
              "        text-align: right;\n",
              "    }\n",
              "</style>\n",
              "<table border=\"1\" class=\"dataframe\">\n",
              "  <thead>\n",
              "    <tr style=\"text-align: right;\">\n",
              "      <th></th>\n",
              "      <th>Date</th>\n",
              "      <th>Year</th>\n",
              "      <th>Latitude</th>\n",
              "      <th>Longitude</th>\n",
              "    </tr>\n",
              "  </thead>\n",
              "  <tbody>\n",
              "    <tr>\n",
              "      <th>missing_ratio</th>\n",
              "      <td>0</td>\n",
              "      <td>0.0</td>\n",
              "      <td>1.188</td>\n",
              "      <td>1.188</td>\n",
              "    </tr>\n",
              "    <tr>\n",
              "      <th>min</th>\n",
              "      <td>2001-01-01 00:01:00</td>\n",
              "      <td>2001.0</td>\n",
              "      <td>41.645</td>\n",
              "      <td>-87.926</td>\n",
              "    </tr>\n",
              "    <tr>\n",
              "      <th>max</th>\n",
              "      <td>2012-12-31 23:15:00</td>\n",
              "      <td>2012.0</td>\n",
              "      <td>42.023</td>\n",
              "      <td>-87.525</td>\n",
              "    </tr>\n",
              "  </tbody>\n",
              "</table>\n",
              "</div>"
            ],
            "text/plain": [
              "                              Date    Year  Latitude  Longitude\n",
              "missing_ratio                    0     0.0     1.188      1.188\n",
              "min            2001-01-01 00:01:00  2001.0    41.645    -87.926\n",
              "max            2012-12-31 23:15:00  2012.0    42.023    -87.525"
            ]
          },
          "metadata": {
            "tags": []
          },
          "execution_count": 18
        }
      ]
    },
    {
      "cell_type": "code",
      "metadata": {
        "deletable": false,
        "editable": false,
        "nbgrader": {
          "cell_type": "code",
          "checksum": "4637556038e96ab4c3eb85fcb491c6b1",
          "grade": true,
          "grade_id": "cell-d148b332b71aabcc",
          "locked": true,
          "points": 0.5,
          "schema_version": 3,
          "solution": false,
          "task": false
        },
        "id": "GEciqutuGTeg"
      },
      "source": [
        "## TEST\n",
        "df = nume_col_profiles_df\n",
        "assert dict(df['Date']) == \\\n",
        "                    {'missing_ratio': 0.0,\n",
        "                     'min': pd.Timestamp('2001-01-01 00:01:00'),\n",
        "                     'max': pd.Timestamp('2012-12-31 23:15:00')}\n",
        "assert dict(df['Year']) == {'missing_ratio': 0.0, \n",
        "                            'min': 2001.0, \n",
        "                            'max': 2012.0}\n",
        "assert dict(df['Latitude'].round(3)) == {'missing_ratio': 1.188, \n",
        "                                         'min': 41.645, \n",
        "                                         'max': 42.023}\n",
        "assert dict(df['Longitude'].round(3)) == {'missing_ratio': 1.188,\n",
        "                                          'min': -87.926, \n",
        "                                          'max': -87.525}"
      ],
      "execution_count": 19,
      "outputs": []
    },
    {
      "cell_type": "markdown",
      "metadata": {
        "id": "RLXtR3bqGTeg"
      },
      "source": [
        "Min và max của các cột có vẻ không có gì bất thường."
      ]
    },
    {
      "cell_type": "markdown",
      "metadata": {
        "id": "Sb8gLxR3GTeh"
      },
      "source": [
        "### Với mỗi cột có kiểu dữ liệu dạng categorical, các giá trị được phân bố như thế nào? (0.75đ)"
      ]
    },
    {
      "cell_type": "markdown",
      "metadata": {
        "id": "BsmnngE9GTei"
      },
      "source": [
        "`mvt_df` có 7 cột categorical là \"ID\", \"LocationDescription\", \"Arrest\", \"Domestic\", \"Beat\", \"District\", \"CommunityArea\".\n",
        "\n",
        "Với mỗi cột categorical, bạn tính tỉ lệ % giá trị thiếu (từ 0 đến 100), số lượng giá trị khác nhau, list/array các giá trị khác nhau. Bạn lưu kết quả vào dataframe `cate_col_profiles_df`. Dataframe này có 3 dòng là \"missing_ratio\", \"num_diff_vals\", \"diff_vals\"; và có 7 cột là \"ID\", \"LocationDescription\", \"Arrest\", \"Domestic\", \"Beat\", \"District\", \"CommunityArea\". "
      ]
    },
    {
      "cell_type": "code",
      "metadata": {
        "id": "3pQlFi1FcFql"
      },
      "source": [
        "def cate_statis(col):\n",
        "  p_null = np.sum(col.isnull()) / len(col)*100\n",
        "  num_vals = col.nunique()\n",
        "  diff_vals = col.unique()\n",
        "  return pd.Series({'missing_ratio': p_null, 'num_diff_vals': num_vals, 'diff_vals': diff_vals})"
      ],
      "execution_count": 23,
      "outputs": []
    },
    {
      "cell_type": "code",
      "metadata": {
        "deletable": false,
        "nbgrader": {
          "cell_type": "code",
          "checksum": "35296018f9eb13360b7c8c16620dd5e7",
          "grade": false,
          "grade_id": "cell-22007ecdcdfa0acc",
          "locked": false,
          "schema_version": 3,
          "solution": true,
          "task": false
        },
        "id": "5e2E1c9wGTei",
        "colab": {
          "base_uri": "https://localhost:8080/",
          "height": 207
        },
        "outputId": "7c7d7446-06df-43f1-9f93-e210ed6c671b"
      },
      "source": [
        "# YOUR CODE HERE\n",
        "cate_col_profiles_df = pd.DataFrame()\n",
        "cate_col_profiles_df['ID'] = cate_statis(mvt_df['ID'])\n",
        "cate_col_profiles_df['LocationDescription'] = cate_statis(mvt_df['LocationDescription'])\n",
        "cate_col_profiles_df['Arrest'] = cate_statis(mvt_df['Arrest'])\n",
        "cate_col_profiles_df['Domestic'] = cate_statis(mvt_df['Domestic'])\n",
        "cate_col_profiles_df['Beat'] = cate_statis(mvt_df['Beat'])\n",
        "cate_col_profiles_df['District'] = cate_statis(mvt_df['District'])\n",
        "cate_col_profiles_df['CommunityArea'] =cate_statis(mvt_df['CommunityArea'])\n",
        "#raise NotImplementedError()\n",
        "cate_col_profiles_df"
      ],
      "execution_count": 24,
      "outputs": [
        {
          "output_type": "execute_result",
          "data": {
            "text/html": [
              "<div>\n",
              "<style scoped>\n",
              "    .dataframe tbody tr th:only-of-type {\n",
              "        vertical-align: middle;\n",
              "    }\n",
              "\n",
              "    .dataframe tbody tr th {\n",
              "        vertical-align: top;\n",
              "    }\n",
              "\n",
              "    .dataframe thead th {\n",
              "        text-align: right;\n",
              "    }\n",
              "</style>\n",
              "<table border=\"1\" class=\"dataframe\">\n",
              "  <thead>\n",
              "    <tr style=\"text-align: right;\">\n",
              "      <th></th>\n",
              "      <th>ID</th>\n",
              "      <th>LocationDescription</th>\n",
              "      <th>Arrest</th>\n",
              "      <th>Domestic</th>\n",
              "      <th>Beat</th>\n",
              "      <th>District</th>\n",
              "      <th>CommunityArea</th>\n",
              "    </tr>\n",
              "  </thead>\n",
              "  <tbody>\n",
              "    <tr>\n",
              "      <th>missing_ratio</th>\n",
              "      <td>0</td>\n",
              "      <td>0</td>\n",
              "      <td>0</td>\n",
              "      <td>0</td>\n",
              "      <td>0</td>\n",
              "      <td>22.467</td>\n",
              "      <td>12.8449</td>\n",
              "    </tr>\n",
              "    <tr>\n",
              "      <th>num_diff_vals</th>\n",
              "      <td>191641</td>\n",
              "      <td>78</td>\n",
              "      <td>2</td>\n",
              "      <td>2</td>\n",
              "      <td>300</td>\n",
              "      <td>26</td>\n",
              "      <td>78</td>\n",
              "    </tr>\n",
              "    <tr>\n",
              "      <th>diff_vals</th>\n",
              "      <td>[8951354, 8951141, 8952745, 8952223, 8951608, ...</td>\n",
              "      <td>[STREET, RESIDENTIAL YARD (FRONT/BACK), GAS ST...</td>\n",
              "      <td>[False, True]</td>\n",
              "      <td>[False, True]</td>\n",
              "      <td>[623, 1213, 1622, 724, 211, 2521, 423, 231, 10...</td>\n",
              "      <td>[6.0, 12.0, 16.0, 7.0, 2.0, 25.0, 4.0, 10.0, 9...</td>\n",
              "      <td>[69.0, 24.0, 11.0, 67.0, 35.0, 19.0, 48.0, 40....</td>\n",
              "    </tr>\n",
              "  </tbody>\n",
              "</table>\n",
              "</div>"
            ],
            "text/plain": [
              "                                                              ID  ...                                      CommunityArea\n",
              "missing_ratio                                                  0  ...                                            12.8449\n",
              "num_diff_vals                                             191641  ...                                                 78\n",
              "diff_vals      [8951354, 8951141, 8952745, 8952223, 8951608, ...  ...  [69.0, 24.0, 11.0, 67.0, 35.0, 19.0, 48.0, 40....\n",
              "\n",
              "[3 rows x 7 columns]"
            ]
          },
          "metadata": {
            "tags": []
          },
          "execution_count": 24
        }
      ]
    },
    {
      "cell_type": "code",
      "metadata": {
        "deletable": false,
        "editable": false,
        "nbgrader": {
          "cell_type": "code",
          "checksum": "b00443188111b924e51bc116155f17d9",
          "grade": true,
          "grade_id": "cell-a4cbf35ddac608bb",
          "locked": true,
          "points": 0.75,
          "schema_version": 3,
          "solution": false,
          "task": false
        },
        "id": "5xphW6uBGTej"
      },
      "source": [
        "# TEST\n",
        "df = cate_col_profiles_df\n",
        "assert dict(df.loc['missing_ratio'].astype(float).round(3)) == \\\n",
        "                                    {'ID': 0.0,\n",
        "                                     'LocationDescription': 0.0,\n",
        "                                     'Arrest': 0.0,\n",
        "                                     'Domestic': 0.0,\n",
        "                                     'Beat': 0.0,\n",
        "                                     'District': 22.467,\n",
        "                                     'CommunityArea': 12.845}\n",
        "assert dict(df.loc['num_diff_vals'].astype(int)) == \\\n",
        "                                    {'ID': 191641,\n",
        "                                     'LocationDescription': 78, \n",
        "                                     'Arrest': 2,\n",
        "                                     'Domestic': 2,\n",
        "                                     'Beat': 300, \n",
        "                                     'District': 26, \n",
        "                                     'CommunityArea': 78}\n",
        "assert dict(df.loc['diff_vals'].apply(len)) == \\\n",
        "                                    {'ID': 191641,\n",
        "                                     'LocationDescription': 78,\n",
        "                                     'Arrest': 2,\n",
        "                                     'Domestic': 2,\n",
        "                                     'Beat': 300,\n",
        "                                     'District': 27,\n",
        "                                     'CommunityArea': 79}"
      ],
      "execution_count": 25,
      "outputs": []
    },
    {
      "cell_type": "markdown",
      "metadata": {
        "id": "ZWRuIkEwGTej"
      },
      "source": [
        "### Làm rõ hơn về ý nghĩa của các cột \"Beat\", \"District\", \"CommunityArea\" (1.25đ)"
      ]
    },
    {
      "cell_type": "markdown",
      "metadata": {
        "id": "cWdzHVqNGTej"
      },
      "source": [
        "Theo mô tả của khóa học \"The Analytics Edge\":\n",
        "- **Beat**: the area, or \"beat\" in which the crime occurred. This is the smallest regional division defined by the Chicago police department.\n",
        "- **District**: the police district in which the crime occured. Each district is composed of many beats, and are defined by the Chicago Police Department.\n",
        "- **CommunityArea**: the community area in which the crime occurred. Since the 1920s, Chicago has been divided into what are called \"community areas\", of which there are now 77. The community areas were devised in an attempt to create socially homogeneous regions.\n",
        "\n",
        "Như vậy, \"Beat\" là đơn vị nhỏ nhất, \"District\" thì gồm nhiều \"Beat\". Vậy có phải là các \"District\" không bị overlap với nhau không? (không có trường hợp mà một \"Beat\" vừa thuộc \"District\" này, vừa thuộc \"District\" kia). Và mỗi \"CommunityArea\" là gồm nhiều \"Beat\" và cũng không overlap với nhau? Để trả lời cho hai câu hỏi này, dưới đây bạn sẽ tính tỉ lệ (từ 0 đến 1) các \"Beat\" mà thuộc nhiều hơn một \"District\", và tỉ lệ các \"Beat\" mà thuộc nhiều hơn một \"CommunityArea\". Bạn lần lượt lưu các kết quả vào hai biến là `multi_district_ratio` và `multi_comarea_ratio`."
      ]
    },
    {
      "cell_type": "code",
      "metadata": {
        "colab": {
          "base_uri": "https://localhost:8080/"
        },
        "id": "bU2B6vDIcizc",
        "outputId": "07560698-6933-42d4-b96d-dc922ecc54dc"
      },
      "source": [
        "n_beat = len(mvt_df['Beat'].unique())\n",
        "n_beat"
      ],
      "execution_count": 139,
      "outputs": [
        {
          "output_type": "execute_result",
          "data": {
            "text/plain": [
              "300"
            ]
          },
          "metadata": {
            "tags": []
          },
          "execution_count": 139
        }
      ]
    },
    {
      "cell_type": "code",
      "metadata": {
        "deletable": false,
        "nbgrader": {
          "cell_type": "code",
          "checksum": "2268d3a3d5426f2fcdb34418847b7b1f",
          "grade": false,
          "grade_id": "cell-f312e85b9123e0b0",
          "locked": false,
          "schema_version": 3,
          "solution": true,
          "task": false
        },
        "id": "fJfFRQLIGTek"
      },
      "source": [
        "# YOUR CODE HERE\n",
        "# Lấy các unique của bộ District và Beat\n",
        "uni_dist_beat = mvt_df[['District', 'Beat']].drop_duplicates()\n",
        "# Bỏ đi các dòng chứa nan ở cột district\n",
        "uni_dist_beat = uni_dist_beat[uni_dist_beat['District'].notna()]\n",
        "# Tính số lượng các beat có ở 2 District trở lên\n",
        "n_multi_dist = sum(uni_dis_beat['Beat'].value_counts()>1)\n",
        "#Tính tỷ lệ\n",
        "multi_district_ratio = n_multi_dist/n_beat\n",
        "\n",
        "\n",
        "# Lấy các unique của bộ CommunityArea và Beat\n",
        "uni_comarea_beat = mvt_df[['CommunityArea', 'Beat']].drop_duplicates()\n",
        "# Bỏ đi các dòng chứa nan ở cột communityarea\n",
        "uni_comarea_beat = uni_comarea_beat[uni_comarea_beat['CommunityArea'].notna()]\n",
        "# Tính số lượng các beat có ở 2 CommunityArea trở lên\n",
        "n_multi_comarea = sum(uni_comarea_beat['Beat'].value_counts()>1)\n",
        "#Tính tỷ lệ\n",
        "multi_comarea_ratio = n_multi_comarea/n_beat\n",
        "# raise NotImplementedError()"
      ],
      "execution_count": 160,
      "outputs": []
    },
    {
      "cell_type": "code",
      "metadata": {
        "deletable": false,
        "editable": false,
        "nbgrader": {
          "cell_type": "code",
          "checksum": "8a580613b075cfb45b2ef6de48d5ff5d",
          "grade": true,
          "grade_id": "cell-6faf22732c2063c1",
          "locked": true,
          "points": 1.25,
          "schema_version": 3,
          "solution": false,
          "task": false
        },
        "id": "qp4yl9IDGTek"
      },
      "source": [
        "# TEST\n",
        "assert round(multi_district_ratio, 3) == 0.210\n",
        "assert round(multi_comarea_ratio, 3) == 0.603"
      ],
      "execution_count": 161,
      "outputs": []
    },
    {
      "cell_type": "markdown",
      "metadata": {
        "id": "iYJmQAzTGTek"
      },
      "source": [
        "---"
      ]
    },
    {
      "cell_type": "markdown",
      "metadata": {
        "id": "p5uq63DqGTel"
      },
      "source": [
        "## Đưa ra các câu hỏi cần trả lời"
      ]
    },
    {
      "cell_type": "markdown",
      "metadata": {
        "id": "fSHyEt5ZGTel"
      },
      "source": [
        "Sau khi đã khám phá dữ liệu và hiểu hơn về dữ liệu, ta thấy có một số câu hỏi có thể được trả lời bằng dữ liệu:\n",
        "- Số lượng các vụ phạm tội thay đổi như thế nào theo năm?\n",
        "- Với các vụ án xảy ra ở mỗi năm, tỉ lệ bắt được thủ phạm tính đến thời điểm dữ liệu được thu thập là bao nhiêu?\n",
        "- Trong mỗi năm, \"Beat\" nào có nhiều vụ phạm tội nhất và \"Beat\" nào có ít vụ phạm tội nhất?\n",
        "- Trong 3 năm gần đây, 5 loại địa điểm nào (ngoài đường, chỗ đậu xe, ...) có nhiều vụ phạm tội nhất?\n",
        "- Trong mỗi năm của 3 năm gần đây, số lượng các vụ phạm tội thay đổi như thế nào theo tháng?\n",
        "\n",
        "Trong đồ án cuối kỳ, bạn sẽ phải suy nghĩ để đưa ra các câu hỏi có ý nghĩa và cũng phải giải thích để người đọc thấy được là câu hỏi có ý nghĩa. Trong bài tập này, mục đích chính là tập luyện các thao tác xử lý dữ liệu của Pandas nên mình không cần giải thích để người đọc thấy được là các câu hỏi có ý nghĩa. May quá 😉. "
      ]
    },
    {
      "cell_type": "markdown",
      "metadata": {
        "id": "_3xxIXGGGTel"
      },
      "source": [
        "---"
      ]
    },
    {
      "cell_type": "markdown",
      "metadata": {
        "id": "gzD22UIAGTem"
      },
      "source": [
        "## Tiền xử lý"
      ]
    },
    {
      "cell_type": "markdown",
      "metadata": {
        "id": "Zevc4BnFGTem"
      },
      "source": [
        "### Thêm cột \"Month\" vào dataframe (0.5đ)"
      ]
    },
    {
      "cell_type": "markdown",
      "metadata": {
        "id": "xYsQUanKGTem"
      },
      "source": [
        "Trong các câu hỏi ở trên, có câu cần đến thông tin về tháng của vụ phạm tội. Do đó, trước khi phân tích để trả lời cho các câu hỏi, bạn hãy tiền xử lý bằng cách thêm cột \"Month\" (tháng xảy ra vụ phạm tội) vào `mvt_df`. Sau khi thêm thì `mvt_df` phải thay đổi."
      ]
    },
    {
      "cell_type": "code",
      "metadata": {
        "deletable": false,
        "nbgrader": {
          "cell_type": "code",
          "checksum": "787b5ee9b1bac081bc64c2b0a61da43d",
          "grade": false,
          "grade_id": "cell-b11a3d54448e8905",
          "locked": false,
          "schema_version": 3,
          "solution": true,
          "task": false
        },
        "id": "BQhtoyW9GTem"
      },
      "source": [
        "# YOUR CODE HERE\n",
        "raise NotImplementedError()"
      ],
      "execution_count": null,
      "outputs": []
    },
    {
      "cell_type": "code",
      "metadata": {
        "deletable": false,
        "editable": false,
        "nbgrader": {
          "cell_type": "code",
          "checksum": "56696f03a8d9c1e4a407cc39e0b28e5a",
          "grade": true,
          "grade_id": "cell-6a301e064922ea1e",
          "locked": true,
          "points": 0.5,
          "schema_version": 3,
          "solution": false,
          "task": false
        },
        "id": "pFqm-5GKGTen"
      },
      "source": [
        "# TEST\n",
        "assert mvt_df['Month'].min() == 1\n",
        "assert mvt_df['Month'].max() == 12"
      ],
      "execution_count": null,
      "outputs": []
    },
    {
      "cell_type": "markdown",
      "metadata": {
        "id": "rrBTEE7CGTen"
      },
      "source": [
        "---"
      ]
    },
    {
      "cell_type": "markdown",
      "metadata": {
        "id": "OnnBLUEWGTen"
      },
      "source": [
        "## Phân tích dữ liệu để trả lời cho các câu hỏi "
      ]
    },
    {
      "cell_type": "markdown",
      "metadata": {
        "id": "I2k-pEbcGTen"
      },
      "source": [
        "### Số lượng các vụ phạm tội thay đổi như thế nào theo năm? (0.75đ)\n",
        "\n",
        "Để trả lời cho câu hỏi này, bạn sẽ làm như sau:\n",
        "- Bước 1: Tính số vụ phạm tội của mỗi năm. Bạn lưu kết quả vào series `num_thefts_each_year`, trong đó index là năm.\n",
        "- Bước 2: Từ kết quả ở trên, bạn vẽ đồ thị dạng line, trong đó trục hoành là năm và trục tung là số lượng vụ phạm tội. Bạn dùng thêm marker là điểm tròn để cho thấy rõ các điểm dữ liệu. Bạn đặt tên trục hoành là \"Year\" và tên trục tung là \"NumThefts\"."
      ]
    },
    {
      "cell_type": "markdown",
      "metadata": {
        "id": "LhZtpXzyGTeo"
      },
      "source": [
        "Code bước 1. "
      ]
    },
    {
      "cell_type": "code",
      "metadata": {
        "deletable": false,
        "nbgrader": {
          "cell_type": "code",
          "checksum": "05fec7cb772d08bedb6ec735494daabf",
          "grade": false,
          "grade_id": "cell-ca92bcde951cbcd9",
          "locked": false,
          "schema_version": 3,
          "solution": true,
          "task": false
        },
        "id": "d-6bz7TXGTeo"
      },
      "source": [
        "# YOUR CODE HERE\n",
        "raise NotImplementedError()"
      ],
      "execution_count": null,
      "outputs": []
    },
    {
      "cell_type": "code",
      "metadata": {
        "deletable": false,
        "editable": false,
        "nbgrader": {
          "cell_type": "code",
          "checksum": "fe83be47c3daa56e2e392cc416c03e35",
          "grade": true,
          "grade_id": "cell-10c1e16b0a2b2bf8",
          "locked": true,
          "points": 0.5,
          "schema_version": 3,
          "solution": false,
          "task": false
        },
        "id": "WE_K7DODGTeq"
      },
      "source": [
        "# TEST\n",
        "assert num_thefts_each_year.loc[2001] == 20669\n",
        "assert num_thefts_each_year.loc[2012] == 14092"
      ],
      "execution_count": null,
      "outputs": []
    },
    {
      "cell_type": "markdown",
      "metadata": {
        "id": "d_mCSnmGGTeq"
      },
      "source": [
        "Code bước 2. "
      ]
    },
    {
      "cell_type": "code",
      "metadata": {
        "deletable": false,
        "nbgrader": {
          "cell_type": "code",
          "checksum": "f0c5966c75e665325d83f45dd5fcc9a9",
          "grade": true,
          "grade_id": "cell-c3f22e75a64dab00",
          "locked": false,
          "points": 0.25,
          "schema_version": 3,
          "solution": true,
          "task": false
        },
        "id": "n5UAe454GTer"
      },
      "source": [
        "# YOUR CODE HERE\n",
        "raise NotImplementedError()"
      ],
      "execution_count": null,
      "outputs": []
    },
    {
      "cell_type": "markdown",
      "metadata": {
        "id": "ZFq2Lkd9GTes"
      },
      "source": [
        "Hmm, ở Mỹ, năm 2008-2009 xảy ra cuộc khủng hoảng kinh tế, không biết có liên quan gì không ..."
      ]
    },
    {
      "cell_type": "markdown",
      "metadata": {
        "id": "Mva5tqdrGTes"
      },
      "source": [
        "### Với các vụ án xảy ra ở mỗi năm, tỉ lệ bắt được thủ phạm tính đến thời điểm dữ liệu được thu thập là bao nhiêu? (1.25đ)\n",
        "\n",
        "Để trả lời cho câu hỏi này, bạn sẽ làm như sau:\n",
        "- Bước 1: Tính tỉ lệ (từ 0 đến 1) bắt được thủ phạm của mỗi năm (năm ở đây là năm xảy ra các vụ phạm tội, còn bắt được hay không bắt được là tính tới thời điểm dữ liệu được thu thập). Bạn lưu kết quả vào series `arrest_ratio_each_year`, trong đó index là năm.\n",
        "- Bước 2: Từ kết quả ở trên, bạn vẽ đồ thị dạng line, trong đó trục hoành là năm và trục tung là tỉ lệ bị bắt. Bạn dùng thêm marker là điểm tròn để cho thấy rõ các điểm dữ liệu. Bạn đặt tên trục hoành là \"Year\" và tên trục tung là \"ArrestRatio\". Ngoài ra, bạn cũng cần chỉnh miền giá trị của trục tung là từ 0 đến 1."
      ]
    },
    {
      "cell_type": "markdown",
      "metadata": {
        "id": "dHq_cdk1GTet"
      },
      "source": [
        "Code bước 1. "
      ]
    },
    {
      "cell_type": "code",
      "metadata": {
        "deletable": false,
        "nbgrader": {
          "cell_type": "code",
          "checksum": "b4716751342c988dcc4536b763d16cd5",
          "grade": false,
          "grade_id": "cell-129a07978e3c0de1",
          "locked": false,
          "schema_version": 3,
          "solution": true,
          "task": false
        },
        "id": "3Rc9YsXoGTet"
      },
      "source": [
        "# YOUR CODE HERE\n",
        "raise NotImplementedError()"
      ],
      "execution_count": null,
      "outputs": []
    },
    {
      "cell_type": "code",
      "metadata": {
        "deletable": false,
        "editable": false,
        "nbgrader": {
          "cell_type": "code",
          "checksum": "051d560caefafe48a5ada18a3472b635",
          "grade": true,
          "grade_id": "cell-81a06dfa2c96900c",
          "locked": true,
          "points": 0.75,
          "schema_version": 3,
          "solution": false,
          "task": false
        },
        "id": "kCjvHW2ZGTet"
      },
      "source": [
        "# TEST\n",
        "assert round(arrest_ratio_each_year.loc[2001], 3) == 0.104\n",
        "assert round(arrest_ratio_each_year.loc[2012], 3) == 0.039"
      ],
      "execution_count": null,
      "outputs": []
    },
    {
      "cell_type": "markdown",
      "metadata": {
        "id": "j9fjOgigGTeu"
      },
      "source": [
        "Code bước 2. "
      ]
    },
    {
      "cell_type": "code",
      "metadata": {
        "deletable": false,
        "nbgrader": {
          "cell_type": "code",
          "checksum": "3624cec51e611f66943119aa5a2b3638",
          "grade": true,
          "grade_id": "cell-fe3eae5b8130e5ec",
          "locked": false,
          "points": 0.25,
          "schema_version": 3,
          "solution": true,
          "task": false
        },
        "id": "O1zgr1d0GTeu"
      },
      "source": [
        "# YOUR CODE HERE\n",
        "raise NotImplementedError()"
      ],
      "execution_count": null,
      "outputs": []
    },
    {
      "cell_type": "markdown",
      "metadata": {
        "id": "atTdcwq0GTeu"
      },
      "source": [
        "Bạn sẽ thấy tỉ lệ bị bắt nhìn chung là giảm trong các năm gần đây. Tại sao lại như vậy? Nói chung là ta không biết chắc được. Nhưng bạn thử suy nghĩ và đưa ra một giả thuyết để giải thích cho xu hướng này dựa vào thông tin sau: năm ở đây là năm xảy ra vụ phạm tội, bắt được hay không bắt được là tính đến thời điểm dữ liệu được thu thập (dữ liệu này được thu thập vào khoảng năm 2012-2013, là thời điểm mở của khóa học \"The Analytics Edge\")."
      ]
    },
    {
      "cell_type": "markdown",
      "metadata": {
        "deletable": false,
        "nbgrader": {
          "cell_type": "markdown",
          "checksum": "f21cea3600714c64427a488015695010",
          "grade": true,
          "grade_id": "cell-d91e2d8fd4045ebb",
          "locked": false,
          "points": 0.25,
          "schema_version": 3,
          "solution": true,
          "task": false
        },
        "id": "COiYV-F3GTev"
      },
      "source": [
        "YOUR ANSWER HERE"
      ]
    },
    {
      "cell_type": "markdown",
      "metadata": {
        "id": "jL4-unndGTev"
      },
      "source": [
        "###  Trong mỗi năm, \"Beat\" nào có nhiều vụ phạm tội nhất và \"Beat\" nào có ít vụ phạm tội nhất? (0.75đ)\n",
        "\n",
        "Bạn lưu kết quả vào dataframe `two_beats_each_year_df`. Dataframe này có 12 dòng ứng với 12 năm là 2001, 2002, ..., 2012; và có 2 cột là \"SafeBeat\" (\"Beat\" có ít vụ phạm tội nhất) và \"DangerousBeat\" (\"Beat\" có nhiều vụ phạm tội nhất)."
      ]
    },
    {
      "cell_type": "code",
      "metadata": {
        "deletable": false,
        "nbgrader": {
          "cell_type": "code",
          "checksum": "5cd5cba0a2fddc31f015a38d3f8fe44e",
          "grade": false,
          "grade_id": "cell-7ef114a2b6ffaad2",
          "locked": false,
          "schema_version": 3,
          "solution": true,
          "task": false
        },
        "id": "XWn5JIqDGTev"
      },
      "source": [
        "# YOUR CODE HERE\n",
        "raise NotImplementedError()\n",
        "two_beats_each_year_df"
      ],
      "execution_count": null,
      "outputs": []
    },
    {
      "cell_type": "code",
      "metadata": {
        "deletable": false,
        "editable": false,
        "nbgrader": {
          "cell_type": "code",
          "checksum": "3cc248e2ece08599ad1478d31504a355",
          "grade": true,
          "grade_id": "cell-7bab4fca5fec8531",
          "locked": true,
          "points": 0.75,
          "schema_version": 3,
          "solution": false,
          "task": false
        },
        "id": "R4YtADxgGTev"
      },
      "source": [
        "# TEST\n",
        "df = two_beats_each_year_df\n",
        "assert df.loc[2001, 'SafeBeat'] == 134\n",
        "assert df.loc[2001, 'DangerousBeat'] == 833\n",
        "assert df.loc[2012, 'SafeBeat'] in [134, 2122, 2322, 2324]\n",
        "assert df.loc[2012, 'DangerousBeat'] == 824"
      ],
      "execution_count": null,
      "outputs": []
    },
    {
      "cell_type": "markdown",
      "metadata": {
        "id": "bG8wb3LgGTew"
      },
      "source": [
        "### Trong 3 năm gần đây, 5 loại địa điểm nào (ngoài đường, chỗ đậu xe, ...) có nhiều vụ phạm tội nhất? (0.75đ)\n",
        "\n",
        "Loại địa điểm ở đây được lưu trong cột \"LocationDescription\". Năm loại địa điểm trong câu hỏi là không tính \"OTHER\". Bạn lưu kết quả vào list `top5_locs` theo thứ tự phần tử đầu tiên là có nhiều vụ phạm tội nhất, phần tử thứ hai là có nhiều vụ phạm tội nhì, ..."
      ]
    },
    {
      "cell_type": "code",
      "metadata": {
        "deletable": false,
        "nbgrader": {
          "cell_type": "code",
          "checksum": "1ccfcbae3d8afb90cf3d8aeba2e7e46d",
          "grade": false,
          "grade_id": "cell-9f05d5d157d6c417",
          "locked": false,
          "schema_version": 3,
          "solution": true,
          "task": false
        },
        "id": "8UzGYJbiGTew"
      },
      "source": [
        "# YOUR CODE HERE\n",
        "raise NotImplementedError()"
      ],
      "execution_count": null,
      "outputs": []
    },
    {
      "cell_type": "code",
      "metadata": {
        "deletable": false,
        "editable": false,
        "nbgrader": {
          "cell_type": "code",
          "checksum": "6da6fbe24fa05dafa3db51a3a46dd815",
          "grade": true,
          "grade_id": "cell-5e91bd1e3d1aceec",
          "locked": true,
          "points": 0.75,
          "schema_version": 3,
          "solution": false,
          "task": false
        },
        "id": "ZkHlcbqSGTew"
      },
      "source": [
        "# TEST\n",
        "assert top5_locs == ['STREET', \n",
        "                     'PARKING LOT/GARAGE(NON.RESID.)', \n",
        "                     'RESIDENTIAL YARD (FRONT/BACK)', \n",
        "                     'VEHICLE NON-COMMERCIAL', \n",
        "                     'ALLEY']"
      ],
      "execution_count": null,
      "outputs": []
    },
    {
      "cell_type": "markdown",
      "metadata": {
        "id": "S6S3my38GTew"
      },
      "source": [
        "### Trong mỗi năm của 3 năm gần đây, số lượng các vụ phạm tội thay đổi như thế nào theo tháng? (1đ)\n",
        "\n",
        "Để trả lời cho câu hỏi này, bạn sẽ làm như sau:\n",
        "- Bước 1: Tính dataframe `num_thefts_each_month_df` gồm có 3 cột (tên là 2010, 2011, 2012) ứng với số lượng vụ phạm tội theo các tháng của 3 năm, và 12 dòng (tên là 1, 2, ..., 12) ứng với 12 tháng.  \n",
        "- Bước 2: Từ kết quả ở trên, bạn vẽ 3 đường dạng line (ứng với 3 năm) trên cùng một đồ thị, trong đó trục hoành là tháng và trục tung là số lượng vụ phạm tội. Bạn dùng thêm marker là điểm tròn để cho thấy rõ các điểm dữ liệu. Bạn đặt tên trục hoành là \"Month\" và tên trục tung là \"NumThefts\". Bạn cũng cần dùng legend để ghi chú là đường nào thì ứng với năm nào."
      ]
    },
    {
      "cell_type": "markdown",
      "metadata": {
        "id": "NFkE--EjGTex"
      },
      "source": [
        "Code bước 1. "
      ]
    },
    {
      "cell_type": "code",
      "metadata": {
        "deletable": false,
        "nbgrader": {
          "cell_type": "code",
          "checksum": "5ae6b11e2939994396ea81a514e5100e",
          "grade": false,
          "grade_id": "cell-8199894515a93739",
          "locked": false,
          "schema_version": 3,
          "solution": true,
          "task": false
        },
        "id": "QZW7jrwrGTex"
      },
      "source": [
        "# YOUR CODE HERE\n",
        "raise NotImplementedError()\n",
        "num_thefts_each_month_df"
      ],
      "execution_count": null,
      "outputs": []
    },
    {
      "cell_type": "code",
      "metadata": {
        "deletable": false,
        "editable": false,
        "nbgrader": {
          "cell_type": "code",
          "checksum": "1843e7bb6c3341a6c4929e44e8de29f3",
          "grade": true,
          "grade_id": "cell-1b37c024f3bf33e9",
          "locked": true,
          "points": 0.75,
          "schema_version": 3,
          "solution": false,
          "task": false
        },
        "id": "vqrySgM3GTex"
      },
      "source": [
        "# TEST\n",
        "df = num_thefts_each_month_df\n",
        "assert df.shape == (12, 3)\n",
        "assert df.loc[1, 2010] == 1278\n",
        "assert df.loc[1, 2011] == 1508\n",
        "assert df.loc[1, 2012] == 1253"
      ],
      "execution_count": null,
      "outputs": []
    },
    {
      "cell_type": "markdown",
      "metadata": {
        "id": "377lOPFtGTey"
      },
      "source": [
        "Code bước 2. "
      ]
    },
    {
      "cell_type": "code",
      "metadata": {
        "deletable": false,
        "nbgrader": {
          "cell_type": "code",
          "checksum": "1c9d18a5ba82268dffbece405ddd2fac",
          "grade": true,
          "grade_id": "cell-443fcd8b92392f58",
          "locked": false,
          "points": 0.25,
          "schema_version": 3,
          "solution": true,
          "task": false
        },
        "id": "9qeo7waNGTey"
      },
      "source": [
        "# YOUR CODE HERE\n",
        "raise NotImplementedError()"
      ],
      "execution_count": null,
      "outputs": []
    },
    {
      "cell_type": "markdown",
      "metadata": {
        "id": "ja8KtphEGTey"
      },
      "source": [
        "Hmm ..."
      ]
    }
  ]
}